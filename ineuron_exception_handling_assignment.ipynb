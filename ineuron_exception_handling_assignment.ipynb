{
  "nbformat": 4,
  "nbformat_minor": 0,
  "metadata": {
    "colab": {
      "name": "ineuron exception handling assignment.ipynb",
      "provenance": [],
      "collapsed_sections": []
    },
    "kernelspec": {
      "name": "python3",
      "display_name": "Python 3"
    }
  },
  "cells": [
    {
      "cell_type": "markdown",
      "metadata": {
        "id": "1Gws2Wp4mc5y"
      },
      "source": [
        "1. Write a function to compute 5/0 and use try/except to catch the exceptions.\r\n",
        "\r\n",
        "2. Implement a Python program to generate all sentences where subject is in \r\n",
        "[\"Americans\", \"Indians\"] and verb is in [\"Play\", \"watch\"] and the object is in [\"Baseball\",\"cricket\"].\r\n",
        "\r\n",
        "**Hint**: Subject,Verb and Object should be declared in the program as shown below.\r\n",
        "\r\n",
        "subjects=[\"Americans \",\"Indians\"]\r\n",
        "\r\n",
        "verbs=[\"play\",\"watch\"]\r\n",
        "\r\n",
        "objects=[\"Baseball\",\"Cricket\"]\r\n",
        "\r\n",
        "**Output should come as below:**\r\n",
        "\r\n",
        "Americans play Baseball.\r\n",
        "\r\n",
        "Americans play Cricket.\r\n",
        "\r\n",
        "Americans watch Baseball.\r\n",
        "\r\n",
        "Americans watch Cricket.\r\n",
        "\r\n",
        "Indians play Baseball.\r\n",
        "\r\n",
        "Indians play Cricket.\r\n",
        "\r\n",
        "Indians watch Baseball.\r\n",
        "\r\n",
        "Indians watch Cricket."
      ]
    },
    {
      "cell_type": "code",
      "metadata": {
        "id": "M0CdGjjwj885",
        "colab": {
          "base_uri": "https://localhost:8080/"
        },
        "outputId": "10c724e5-d5dd-44d4-c061-92c39be1b896"
      },
      "source": [
        "# 1.\r\n",
        "\r\n",
        "def division_by_zero():\r\n",
        "    try:\r\n",
        "        print(5/0)\r\n",
        "    except:\r\n",
        "        print(\"Division by zero is not possible.\")\r\n",
        "\r\n",
        "\r\n",
        "division_by_zero()\r\n"
      ],
      "execution_count": 1,
      "outputs": [
        {
          "output_type": "stream",
          "text": [
            "Division by zero is not possible.\n"
          ],
          "name": "stdout"
        }
      ]
    },
    {
      "cell_type": "code",
      "metadata": {
        "colab": {
          "base_uri": "https://localhost:8080/"
        },
        "id": "zkRwIBQym_zN",
        "outputId": "a0fb4663-aad2-4c52-e20e-55fd5381bd5c"
      },
      "source": [
        "# 2. \r\n",
        "\r\n",
        "subjects = [\"Americans\", \"Indians\"]\r\n",
        "verbs = [\"play\", \"watch\"]\r\n",
        "objects = [\"Baseball\", \"Cricket\"]\r\n",
        "for i in subjects:\r\n",
        "    for j in verbs:\r\n",
        "        for k in objects:\r\n",
        "            print(i + \" \" + j + \" \" + k + \".\")\r\n",
        "\r\n"
      ],
      "execution_count": 2,
      "outputs": [
        {
          "output_type": "stream",
          "text": [
            "Americans play Baseball.\n",
            "Americans play Cricket.\n",
            "Americans watch Baseball.\n",
            "Americans watch Cricket.\n",
            "Indians play Baseball.\n",
            "Indians play Cricket.\n",
            "Indians watch Baseball.\n",
            "Indians watch Cricket.\n"
          ],
          "name": "stdout"
        }
      ]
    },
    {
      "cell_type": "code",
      "metadata": {
        "id": "magMB0BJnF0c"
      },
      "source": [
        ""
      ],
      "execution_count": null,
      "outputs": []
    }
  ]
}