{
  "nbformat": 4,
  "nbformat_minor": 0,
  "metadata": {
    "colab": {
      "name": "ineuron python assignment 3.ipynb",
      "provenance": [],
      "collapsed_sections": []
    },
    "kernelspec": {
      "name": "python3",
      "display_name": "Python 3"
    }
  },
  "cells": [
    {
      "cell_type": "markdown",
      "metadata": {
        "id": "Vj47d-AQRZ6Z"
      },
      "source": [
        "1.1 Write a Python Program to implement your own myreduce() function which works exactly \n",
        "like Python's built-in function reduce()\n",
        "\n",
        "1.2 Write a Python program to implement your own myfilter() function which works exactly \n",
        "like Python's built-in function filter()\n",
        "\n",
        "2.Implement List comprehensions to produce the following lists. \n",
        "\n",
        "Write List comprehensions to produce the following Lists\n",
        "\n",
        "['x', 'xx', 'xxx', 'xxxx', 'y', 'yy', 'yyy', 'yyyy', 'z', 'zz', 'zzz', 'zzzz']\n",
        "\n",
        "['x', 'y', 'z', 'xx', 'yy', 'zz', 'xxx', 'yyy', 'zzz', 'xxxx', 'yyyy', 'zzzz']\n",
        "\n",
        "[[2], [3], [4], [3], [4], [5], [4], [5], [6]] [[2, 3, 4, 5], [3, 4, 5, 6], \n",
        "[4, 5, 6, 7], [5, 6, 7, 8]]\n",
        "\n",
        "[(1, 1), (2, 1), (3, 1), (1, 2), (2, 2), (3, 2), (1, 3), (2, 3), (3, 3)]\n",
        "\n"
      ]
    },
    {
      "cell_type": "code",
      "metadata": {
        "id": "4V0Rrej-O6Or",
        "outputId": "e4b2a0d6-01d2-41bc-c4fd-437dca233d3c",
        "colab": {
          "base_uri": "https://localhost:8080/"
        }
      },
      "source": [
        "# 1.1\n",
        "\n",
        "def myreduce(function_call, iterable_list):\n",
        "    ''' Similar to built in function reduce() '''\n",
        "    value = iterable_list[0]\n",
        "    for i in iterable_list[1:]:\n",
        "        value = function_call(value, i)\n",
        "    return value\n",
        "\n",
        "\n",
        "iterable_list = [2, 3, 4]\n",
        "print(myreduce(lambda x, y: x + y, iterable_list))\n"
      ],
      "execution_count": 1,
      "outputs": [
        {
          "output_type": "stream",
          "text": [
            "9\n"
          ],
          "name": "stdout"
        }
      ]
    },
    {
      "cell_type": "code",
      "metadata": {
        "id": "Y7UacvoNSPrm",
        "outputId": "7f4bb2ad-4f0b-4e42-b0f9-aa8e48366ec7",
        "colab": {
          "base_uri": "https://localhost:8080/"
        }
      },
      "source": [
        "# 1.2\n",
        "\n",
        "def myfilter(function_call, iterable_list):\n",
        "    ''' similar to filter function '''\n",
        "    return [item for item in iterable_list if function_call(item)]\n",
        "\n",
        "\n",
        "iterable_list = [2, 3, 4]\n",
        "print(myfilter(lambda x: x % 2 == 0, iterable_list))\n"
      ],
      "execution_count": 2,
      "outputs": [
        {
          "output_type": "stream",
          "text": [
            "[2, 4]\n"
          ],
          "name": "stdout"
        }
      ]
    },
    {
      "cell_type": "code",
      "metadata": {
        "id": "2Z52f_zNShrJ",
        "outputId": "86bc1792-70e0-458d-c243-c81e20d3f3b6",
        "colab": {
          "base_uri": "https://localhost:8080/"
        }
      },
      "source": [
        "# 2\n",
        "\n",
        "double = [i*j for j in [\"x\", \"y\", \"z\"] for i in range(1, 5)]\n",
        "print(double)\n",
        "double_1 = [i*j for i in range(1, 5) for j in [\"x\", \"y\", \"z\"]]\n",
        "print(double_1)\n",
        "arr = [[j] for i in range(2, 5) for j in range(i, i+3)]\n",
        "arr_1 = [[j for j in range(i, i+4)] for i in range(2, 6)]\n",
        "print(arr, arr_1)\n",
        "tup = [(j, i) for i in range(1, 4) for j in range(1, 4)]\n",
        "print(tup)\n"
      ],
      "execution_count": 3,
      "outputs": [
        {
          "output_type": "stream",
          "text": [
            "['x', 'xx', 'xxx', 'xxxx', 'y', 'yy', 'yyy', 'yyyy', 'z', 'zz', 'zzz', 'zzzz']\n",
            "['x', 'y', 'z', 'xx', 'yy', 'zz', 'xxx', 'yyy', 'zzz', 'xxxx', 'yyyy', 'zzzz']\n",
            "[[2], [3], [4], [3], [4], [5], [4], [5], [6]] [[2, 3, 4, 5], [3, 4, 5, 6], [4, 5, 6, 7], [5, 6, 7, 8]]\n",
            "[(1, 1), (2, 1), (3, 1), (1, 2), (2, 2), (3, 2), (1, 3), (2, 3), (3, 3)]\n"
          ],
          "name": "stdout"
        }
      ]
    },
    {
      "cell_type": "code",
      "metadata": {
        "id": "FoV1MontSq-n"
      },
      "source": [
        ""
      ],
      "execution_count": null,
      "outputs": []
    }
  ]
}