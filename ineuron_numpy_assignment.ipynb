{
  "nbformat": 4,
  "nbformat_minor": 0,
  "metadata": {
    "colab": {
      "name": "ineuron numpy assignment.ipynb",
      "provenance": [],
      "collapsed_sections": []
    },
    "kernelspec": {
      "name": "python3",
      "display_name": "Python 3"
    }
  },
  "cells": [
    {
      "cell_type": "code",
      "metadata": {
        "id": "EFQ1o7A0I6Pg"
      },
      "source": [
        "import pandas as pd\n",
        "import numpy as np\n"
      ],
      "execution_count": 2,
      "outputs": []
    },
    {
      "cell_type": "markdown",
      "metadata": {
        "id": "cWyzZNfdIexW"
      },
      "source": [
        "1) Write a function so that the columns of the output matrix are powers of the inputvector.\n",
        "\n",
        "The order of the powers is determined by the increasing boolean argument. Specifically, when increasing is False, the i-th output column is the input vector raised element-wise to the power of N -i -1.\n",
        "\n",
        "HINT:  Such  a  matrix  with  a  geometric  progression  in  each  row  is  named  for  Alexandre-Theophile Vandermonde."
      ]
    },
    {
      "cell_type": "markdown",
      "metadata": {
        "id": "xduxOwekJS4I"
      },
      "source": [
        "2) **Problem Statement** \n",
        "\n",
        "Given a sequence of n values x1, x2, ..., xn and a window size k>0, the k-th moving average of the given sequence is defined as follows:The moving average sequence has n-k+1 elements as shown below.The moving averages with k=4 of a ten-value sequence (n=10) is shown below\n",
        "\n",
        "i 1  2  3  4  5  6  7  8  9 10\n",
        "\n",
        "======= == == == == == == == == ==\n",
        "\n",
        "Input 10 20 30 40 50 60 70 80 90 100 \n",
        "\n",
        "y1 25 = (10+20+30+40)/4\n",
        "\n",
        "y2 35 = (20+30+40+50)/4\n",
        "\n",
        "y3 45 = (30+40+50+60)/4\n",
        "\n",
        "y4 55 = (40+50+60+70)/4\n",
        "\n",
        "y5 65 = (50+60+70+80)/4\n",
        "\n",
        "y6 75 = (60+70+80+90)/4\n",
        "\n",
        "y7 85 = (70+80+90+100)/4\n",
        "\n",
        "Thus, the moving average sequence has n-k+1=10-4+1=7 values.\n",
        "\n",
        "Question:Write a function to find moving average in an array over a window:Test it over [3, 5, 7, 2, 8, 10, 11, 65, 72, 81, 99, 100, 150] and window of 3."
      ]
    },
    {
      "cell_type": "code",
      "metadata": {
        "id": "3c11qrVzJBvl",
        "outputId": "03392923-0b5d-4ddd-c043-c346688c9c53",
        "colab": {
          "base_uri": "https://localhost:8080/"
        }
      },
      "source": [
        "# 1)\n",
        "\n",
        "def myvander(arr, N):\n",
        "    x = np.array([arr ** (N - 1 - i) for i in range(N)])\n",
        "    arrays = []\n",
        "    for j in x:\n",
        "        arr = np.array(j)\n",
        "        if arr.ndim < 2:\n",
        "            arr = np.array(arr, copy=False, subok=True, ndmin=2).T\n",
        "        arrays.append(arr)\n",
        "    print(\"\\nAssignment Vander function - \\n\", np.concatenate(arrays, 1))\n",
        "\n",
        "\n",
        "arr = np.array([1, 2, 3])\n",
        "N = 3\n",
        "myvander(arr, N)\n"
      ],
      "execution_count": 4,
      "outputs": [
        {
          "output_type": "stream",
          "text": [
            "\n",
            "Assignment Vander function - \n",
            " [[1 1 1]\n",
            " [4 2 1]\n",
            " [9 3 1]]\n"
          ],
          "name": "stdout"
        }
      ]
    },
    {
      "cell_type": "code",
      "metadata": {
        "id": "qLFkC_uCKahI",
        "outputId": "c6d0a20f-9283-4e41-81eb-4dfb658bc2f1",
        "colab": {
          "base_uri": "https://localhost:8080/"
        }
      },
      "source": [
        "def moving_avg(sequence, k):\n",
        "    n = len(sequence)\n",
        "    y = (n - k) + 1\n",
        "    a = k\n",
        "    print(\"i  - \", [j for j in range(1, len(sequence)+1)])\n",
        "    print(\"=\"*50)\n",
        "    print(\"Input  - \", [l for l in sequence])\n",
        "    for i in range(y):\n",
        "        lst = sequence[i:a]\n",
        "        print(\"y\"+str(i)+\"  \", int(sum(lst) / k))\n",
        "        a += 1\n",
        "\n",
        "\n",
        "sequence = [3, 5, 7, 2, 8, 10, 11, 65, 72, 81, 99, 100, 150]\n",
        "k = 3\n",
        "print(\"\\nAverage window moving - \")\n",
        "moving_avg(sequence, k)\n"
      ],
      "execution_count": 5,
      "outputs": [
        {
          "output_type": "stream",
          "text": [
            "\n",
            "Average window moving - \n",
            "i  -  [1, 2, 3, 4, 5, 6, 7, 8, 9, 10, 11, 12, 13]\n",
            "==================================================\n",
            "Input  -  [3, 5, 7, 2, 8, 10, 11, 65, 72, 81, 99, 100, 150]\n",
            "y0   5\n",
            "y1   4\n",
            "y2   5\n",
            "y3   6\n",
            "y4   9\n",
            "y5   28\n",
            "y6   49\n",
            "y7   72\n",
            "y8   84\n",
            "y9   93\n",
            "y10   116\n"
          ],
          "name": "stdout"
        }
      ]
    },
    {
      "cell_type": "code",
      "metadata": {
        "id": "Z4_K8imGKfDM"
      },
      "source": [
        ""
      ],
      "execution_count": null,
      "outputs": []
    }
  ]
}