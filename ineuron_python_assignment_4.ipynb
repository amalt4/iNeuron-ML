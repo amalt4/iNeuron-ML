{
  "nbformat": 4,
  "nbformat_minor": 0,
  "metadata": {
    "colab": {
      "name": "ineuron python assignment 4.ipynb",
      "provenance": [],
      "collapsed_sections": []
    },
    "kernelspec": {
      "name": "python3",
      "display_name": "Python 3"
    }
  },
  "cells": [
    {
      "cell_type": "markdown",
      "metadata": {
        "id": "x36ScB_1HLWJ"
      },
      "source": [
        "1.1 Write a Python Program(with class concepts) to find the area of the triangle using the below formula.\n",
        "\n",
        "area = (s*(s-a)*(s-b)*(s-c)) ** 0.5\n",
        "\n",
        "Function to take the length of the sides of triangle from user should be defined in the parent class and function to calculate the area should be defined in subclass.\n",
        "\n",
        "1.2 Write a function filter_long_words() that takes a list of words and an integer n and returns the list of words that are longer than n.\n",
        "\n",
        "2.1 Write a Python program using function concept that maps list of words into a list of integers representing the lengths of the corresponding words.\n",
        "\n",
        "**Hint:** If a list [ ab,cde,erty] is passed on to the python function output should come as [2,3,4]. Here 2,3 and 4 are the lengths of the words in the list.\n",
        "\n",
        "2.2 Write a Python function which takes a character (i.e. a string of length 1) and returns True if it is a vowel, False otherwise"
      ]
    },
    {
      "cell_type": "code",
      "metadata": {
        "id": "bQxagAkoFgni",
        "outputId": "af22192c-06c8-4f4b-8267-9f0e7e3f7c59",
        "colab": {
          "base_uri": "https://localhost:8080/"
        }
      },
      "source": [
        "# 1.1\n",
        "\n",
        "class Triangle:\n",
        "        a = int(input(\"Enter length of first side = \"))\n",
        "        b = int(input(\"Enter length of second side = \"))\n",
        "        c = int(input(\"Enter length of third side = \"))\n",
        "\n",
        "        def area(self):\n",
        "            if ((self.a + self.b) > self.c) and ((self.a + self.c) > self.b):\n",
        "                s = (self.a + self.b + self.c) / 2\n",
        "                print(\"Area = \", (s * (s - self.a) * (s - self.b) * (s - self.c)) ** 0.5)\n",
        "            else:\n",
        "                print(\"(a+b) should be greater than c and (a+c) should be graeter than b\")\n",
        "\n",
        "\n",
        "Triangle().area()\n"
      ],
      "execution_count": 1,
      "outputs": [
        {
          "output_type": "stream",
          "text": [
            "Enter length of first side = 20\n",
            "Enter length of second side = 60\n",
            "Enter length of third side = 70\n",
            "Area =  556.2148865321748\n"
          ],
          "name": "stdout"
        }
      ]
    },
    {
      "cell_type": "code",
      "metadata": {
        "id": "z65A3KmJHsM2",
        "outputId": "ab4281a1-baca-421d-ff48-8987597893fb",
        "colab": {
          "base_uri": "https://localhost:8080/"
        }
      },
      "source": [
        "# 1.2\n",
        "\n",
        "def filter_long_words(lst, n):\n",
        "    lst1 = []\n",
        "    for i in lst:\n",
        "        if len(i) > n:\n",
        "            lst1.append(i)\n",
        "    print(lst1)\n",
        "\n",
        "\n",
        "lst = input(\"Enter words separated by space - \").split()\n",
        "n = int(input(\"Enter the length = \"))\n",
        "filter_long_words(lst, n)\n"
      ],
      "execution_count": 2,
      "outputs": [
        {
          "output_type": "stream",
          "text": [
            "Enter words separated by space - stay home and be safe\n",
            "Enter the length = 3\n",
            "['stay', 'home', 'safe']\n"
          ],
          "name": "stdout"
        }
      ]
    },
    {
      "cell_type": "code",
      "metadata": {
        "id": "oKFX-yPFINPD",
        "outputId": "3b4521df-15ce-45e8-d78c-ac368c903079",
        "colab": {
          "base_uri": "https://localhost:8080/"
        }
      },
      "source": [
        "# 2.1\n",
        "\n",
        "def convert_word_to_integer(lst):\n",
        "    lst1 = []\n",
        "    for i in lst:\n",
        "        lst1.append(len(i))\n",
        "    print(lst1)\n",
        "\n",
        "\n",
        "lst = input(\"Enter words separated by sapce - \").split()\n",
        "convert_word_to_integer(lst)\n"
      ],
      "execution_count": 3,
      "outputs": [
        {
          "output_type": "stream",
          "text": [
            "Enter words separated by sapce - stay home and be safe\n",
            "[4, 4, 3, 2, 4]\n"
          ],
          "name": "stdout"
        }
      ]
    },
    {
      "cell_type": "code",
      "metadata": {
        "id": "SFvLv8TfIc3s",
        "outputId": "156dbb20-2546-432e-b253-c203e9f9f824",
        "colab": {
          "base_uri": "https://localhost:8080/"
        }
      },
      "source": [
        "# 2.2\n",
        "\n",
        "def vowel_or_not(a):\n",
        "    vowels = [\"a\", \"e\", \"i\", \"o\", \"u\"]\n",
        "    while len(a) < 2:\n",
        "        if a in vowels:\n",
        "            print(True)\n",
        "            break\n",
        "        else:\n",
        "            print(False)\n",
        "            break\n",
        "    else:\n",
        "        print(\"Enter single character!\")\n",
        "\n",
        "\n",
        "a = input(\"Enter the character - \").lower()\n",
        "vowel_or_not(a)\n"
      ],
      "execution_count": 5,
      "outputs": [
        {
          "output_type": "stream",
          "text": [
            "Enter the character - U\n",
            "True\n"
          ],
          "name": "stdout"
        }
      ]
    },
    {
      "cell_type": "code",
      "metadata": {
        "id": "JfLh-XFBIlKH"
      },
      "source": [
        ""
      ],
      "execution_count": null,
      "outputs": []
    }
  ]
}